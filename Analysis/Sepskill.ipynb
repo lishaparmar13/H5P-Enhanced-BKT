{
 "cells": [
  {
   "cell_type": "code",
   "execution_count": 1,
   "metadata": {},
   "outputs": [],
   "source": [
    "import numpy as np\n",
    "import pandas as pd\n",
    "from pyBKT.models import Model\n",
    "import matplotlib.pyplot as plt\n",
    "from sklearn.model_selection import train_test_split"
   ]
  },
  {
   "cell_type": "code",
   "execution_count": 2,
   "metadata": {},
   "outputs": [],
   "source": [
    "model = Model(seed = 60, num_fits = 1)"
   ]
  },
  {
   "cell_type": "code",
   "execution_count": 3,
   "metadata": {},
   "outputs": [],
   "source": [
    "model.fetch_dataset(\"https://raw.githubusercontent.com/lishaparmar13/H5P-Enhanced-BKT/main/SS.csv\",'.')"
   ]
  },
  {
   "cell_type": "code",
   "execution_count": 4,
   "metadata": {},
   "outputs": [
    {
     "data": {
      "text/html": [
       "<div>\n",
       "<style scoped>\n",
       "    .dataframe tbody tr th:only-of-type {\n",
       "        vertical-align: middle;\n",
       "    }\n",
       "\n",
       "    .dataframe tbody tr th {\n",
       "        vertical-align: top;\n",
       "    }\n",
       "\n",
       "    .dataframe thead th {\n",
       "        text-align: right;\n",
       "    }\n",
       "</style>\n",
       "<table border=\"1\" class=\"dataframe\">\n",
       "  <thead>\n",
       "    <tr style=\"text-align: right;\">\n",
       "      <th></th>\n",
       "      <th>Row</th>\n",
       "      <th>Anon Student Id</th>\n",
       "      <th>Age</th>\n",
       "      <th>Problem Hierarchy</th>\n",
       "      <th>Problem Name</th>\n",
       "      <th>question_id</th>\n",
       "      <th>Step Start Time</th>\n",
       "      <th>Step End Time</th>\n",
       "      <th>Correct First Attempt</th>\n",
       "      <th>Step Duration (sec)</th>\n",
       "      <th>Answer Type</th>\n",
       "      <th>KC(Default)</th>\n",
       "      <th>skill_id</th>\n",
       "      <th>Opportunity (Default)</th>\n",
       "      <th>template_id</th>\n",
       "    </tr>\n",
       "  </thead>\n",
       "  <tbody>\n",
       "    <tr>\n",
       "      <th>489</th>\n",
       "      <td>22</td>\n",
       "      <td>22</td>\n",
       "      <td>16</td>\n",
       "      <td>2</td>\n",
       "      <td>Chocolates left</td>\n",
       "      <td>10</td>\n",
       "      <td>22-07-2023 17:48</td>\n",
       "      <td>22-07-2023 17:49</td>\n",
       "      <td>0</td>\n",
       "      <td>57</td>\n",
       "      <td>Single Choice set</td>\n",
       "      <td>Numbers</td>\n",
       "      <td>4</td>\n",
       "      <td>1</td>\n",
       "      <td>6</td>\n",
       "    </tr>\n",
       "    <tr>\n",
       "      <th>490</th>\n",
       "      <td>23</td>\n",
       "      <td>23</td>\n",
       "      <td>16</td>\n",
       "      <td>2</td>\n",
       "      <td>Chocolates left</td>\n",
       "      <td>10</td>\n",
       "      <td>22-07-2023 18:17</td>\n",
       "      <td>22-07-2023 18:17</td>\n",
       "      <td>1</td>\n",
       "      <td>3</td>\n",
       "      <td>Single Choice set</td>\n",
       "      <td>Numbers</td>\n",
       "      <td>4</td>\n",
       "      <td>1</td>\n",
       "      <td>6</td>\n",
       "    </tr>\n",
       "    <tr>\n",
       "      <th>491</th>\n",
       "      <td>24</td>\n",
       "      <td>24</td>\n",
       "      <td>15</td>\n",
       "      <td>2</td>\n",
       "      <td>Chocolates left</td>\n",
       "      <td>10</td>\n",
       "      <td>23-07-2023 11:57</td>\n",
       "      <td>23-07-2023 12:00</td>\n",
       "      <td>1</td>\n",
       "      <td>180</td>\n",
       "      <td>Single Choice set</td>\n",
       "      <td>Numbers</td>\n",
       "      <td>4</td>\n",
       "      <td>1</td>\n",
       "      <td>6</td>\n",
       "    </tr>\n",
       "    <tr>\n",
       "      <th>492</th>\n",
       "      <td>25</td>\n",
       "      <td>25</td>\n",
       "      <td>16+</td>\n",
       "      <td>2</td>\n",
       "      <td>Chocolates left</td>\n",
       "      <td>10</td>\n",
       "      <td>23-07-2023 12:37</td>\n",
       "      <td>23-07-2023 12:39</td>\n",
       "      <td>0</td>\n",
       "      <td>120</td>\n",
       "      <td>Single Choice set</td>\n",
       "      <td>Numbers</td>\n",
       "      <td>4</td>\n",
       "      <td>1</td>\n",
       "      <td>6</td>\n",
       "    </tr>\n",
       "    <tr>\n",
       "      <th>493</th>\n",
       "      <td>26</td>\n",
       "      <td>26</td>\n",
       "      <td>15</td>\n",
       "      <td>2</td>\n",
       "      <td>Chocolates left</td>\n",
       "      <td>10</td>\n",
       "      <td>24-07-2023 17:05</td>\n",
       "      <td>24-07-2023 17:07</td>\n",
       "      <td>1</td>\n",
       "      <td>60</td>\n",
       "      <td>Single Choice set</td>\n",
       "      <td>Numbers</td>\n",
       "      <td>4</td>\n",
       "      <td>1</td>\n",
       "      <td>6</td>\n",
       "    </tr>\n",
       "  </tbody>\n",
       "</table>\n",
       "</div>"
      ],
      "text/plain": [
       "     Row  Anon Student Id  Age  Problem Hierarchy     Problem Name  \\\n",
       "489   22               22   16                  2  Chocolates left   \n",
       "490   23               23   16                  2  Chocolates left   \n",
       "491   24               24   15                  2  Chocolates left   \n",
       "492   25               25  16+                  2  Chocolates left   \n",
       "493   26               26   15                  2  Chocolates left   \n",
       "\n",
       "     question_id   Step Start Time     Step End Time  Correct First Attempt  \\\n",
       "489           10  22-07-2023 17:48  22-07-2023 17:49                      0   \n",
       "490           10  22-07-2023 18:17  22-07-2023 18:17                      1   \n",
       "491           10  23-07-2023 11:57  23-07-2023 12:00                      1   \n",
       "492           10  23-07-2023 12:37  23-07-2023 12:39                      0   \n",
       "493           10  24-07-2023 17:05  24-07-2023 17:07                      1   \n",
       "\n",
       "     Step Duration (sec)        Answer Type KC(Default)  skill_id  \\\n",
       "489                   57  Single Choice set     Numbers         4   \n",
       "490                    3  Single Choice set     Numbers         4   \n",
       "491                  180  Single Choice set     Numbers         4   \n",
       "492                  120  Single Choice set     Numbers         4   \n",
       "493                   60  Single Choice set     Numbers         4   \n",
       "\n",
       "     Opportunity (Default)  template_id  \n",
       "489                      1            6  \n",
       "490                      1            6  \n",
       "491                      1            6  \n",
       "492                      1            6  \n",
       "493                      1            6  "
      ]
     },
     "execution_count": 4,
     "metadata": {},
     "output_type": "execute_result"
    }
   ],
   "source": [
    "df= pd.read_csv(r\"SS.csv\", encoding ='latin')\n",
    "df.tail(5)"
   ]
  },
  {
   "cell_type": "code",
   "execution_count": 5,
   "metadata": {},
   "outputs": [],
   "source": [
    "#Spliting the data to be later used for predictions\n",
    "train_df, test_df = train_test_split(df, test_size=0.2, random_state=42)"
   ]
  },
  {
   "cell_type": "code",
   "execution_count": 6,
   "metadata": {},
   "outputs": [
    {
     "name": "stderr",
     "output_type": "stream",
     "text": [
      "Exception ignored in: <Finalize object, dead>\n",
      "Traceback (most recent call last):\n",
      "  File \"C:\\Program Files\\WindowsApps\\PythonSoftwareFoundation.Python.3.9_3.9.3568.0_x64__qbz5n2kfra8p0\\lib\\multiprocessing\\util.py\", line 224, in __call__\n",
      "    res = self._callback(*self._args, **self._kwargs)\n",
      "  File \"C:\\Program Files\\WindowsApps\\PythonSoftwareFoundation.Python.3.9_3.9.3568.0_x64__qbz5n2kfra8p0\\lib\\multiprocessing\\pool.py\", line 713, in _terminate_pool\n",
      "    p.terminate()\n",
      "  File \"C:\\Program Files\\WindowsApps\\PythonSoftwareFoundation.Python.3.9_3.9.3568.0_x64__qbz5n2kfra8p0\\lib\\multiprocessing\\process.py\", line 133, in terminate\n",
      "    self._popen.terminate()\n",
      "  File \"C:\\Program Files\\WindowsApps\\PythonSoftwareFoundation.Python.3.9_3.9.3568.0_x64__qbz5n2kfra8p0\\lib\\multiprocessing\\popen_spawn_win32.py\", line 123, in terminate\n",
      "    _winapi.TerminateProcess(int(self._handle), TERMINATE)\n",
      "PermissionError: [WinError 5] Access is denied\n"
     ]
    }
   ],
   "source": [
    "model.fit(data = train_df)"
   ]
  },
  {
   "cell_type": "code",
   "execution_count": 7,
   "metadata": {},
   "outputs": [
    {
     "name": "stdout",
     "output_type": "stream",
     "text": [
      "Fitted Skills:\n",
      "Geometry\n",
      "Fractions\n",
      "Algebra\n",
      "Ratio and Proportion\n",
      "Percentages\n",
      "Numbers\n"
     ]
    }
   ],
   "source": [
    "model.fit(data_path = 'SS.csv')\n",
    "print(\"Fitted Skills:\\n%s\" % '\\n'.join(model.coef_.keys()))"
   ]
  },
  {
   "cell_type": "code",
   "execution_count": 8,
   "metadata": {},
   "outputs": [
    {
     "name": "stdout",
     "output_type": "stream",
     "text": [
      "Training RMSE: 0.472466\n",
      "Training AUC: 0.580650\n"
     ]
    }
   ],
   "source": [
    "# Evaluate with the default RMSE then specify AUC.\n",
    "model.fit(data = train_df)\n",
    "training_rmse = model.evaluate(data = df)\n",
    "training_auc = model.evaluate(data = train_df, metric = 'auc')\n",
    "print(\"Training RMSE: %f\" % training_rmse)\n",
    "print(\"Training AUC: %f\" % training_auc)"
   ]
  },
  {
   "cell_type": "code",
   "execution_count": 9,
   "metadata": {},
   "outputs": [
    {
     "name": "stdout",
     "output_type": "stream",
     "text": [
      "Training MAE: 0.442048\n"
     ]
    }
   ],
   "source": [
    "#define own metric\n",
    "def mae(true_vals, pred_vals):\n",
    "  \"\"\" Calculates the mean absolute error. \"\"\"\n",
    "  return np.mean(np.abs(true_vals - pred_vals))\n",
    "\n",
    "training_mae = model.evaluate(data = train_df, metric = mae)\n",
    "print(\"Training MAE: %f\" % training_mae)"
   ]
  },
  {
   "cell_type": "code",
   "execution_count": 10,
   "metadata": {},
   "outputs": [],
   "source": [
    "model = Model(seed = 60, num_fits = 1)"
   ]
  },
  {
   "cell_type": "code",
   "execution_count": 11,
   "metadata": {},
   "outputs": [
    {
     "data": {
      "text/html": [
       "<div>\n",
       "<style scoped>\n",
       "    .dataframe tbody tr th:only-of-type {\n",
       "        vertical-align: middle;\n",
       "    }\n",
       "\n",
       "    .dataframe tbody tr th {\n",
       "        vertical-align: top;\n",
       "    }\n",
       "\n",
       "    .dataframe thead th {\n",
       "        text-align: right;\n",
       "    }\n",
       "</style>\n",
       "<table border=\"1\" class=\"dataframe\">\n",
       "  <thead>\n",
       "    <tr style=\"text-align: right;\">\n",
       "      <th></th>\n",
       "      <th>Anon Student Id</th>\n",
       "      <th>KC(Default)</th>\n",
       "      <th>Correct First Attempt</th>\n",
       "      <th>correct_predictions</th>\n",
       "      <th>state_predictions</th>\n",
       "    </tr>\n",
       "  </thead>\n",
       "  <tbody>\n",
       "    <tr>\n",
       "      <th>234</th>\n",
       "      <td>1</td>\n",
       "      <td>Percentages</td>\n",
       "      <td>1</td>\n",
       "      <td>0.67363</td>\n",
       "      <td>0.39985</td>\n",
       "    </tr>\n",
       "    <tr>\n",
       "      <th>0</th>\n",
       "      <td>1</td>\n",
       "      <td>Geometry</td>\n",
       "      <td>1</td>\n",
       "      <td>0.67814</td>\n",
       "      <td>0.61372</td>\n",
       "    </tr>\n",
       "    <tr>\n",
       "      <th>208</th>\n",
       "      <td>1</td>\n",
       "      <td>Numbers</td>\n",
       "      <td>1</td>\n",
       "      <td>0.66019</td>\n",
       "      <td>0.34606</td>\n",
       "    </tr>\n",
       "    <tr>\n",
       "      <th>182</th>\n",
       "      <td>1</td>\n",
       "      <td>Geometry</td>\n",
       "      <td>1</td>\n",
       "      <td>0.70277</td>\n",
       "      <td>0.82301</td>\n",
       "    </tr>\n",
       "    <tr>\n",
       "      <th>78</th>\n",
       "      <td>1</td>\n",
       "      <td>Algebra</td>\n",
       "      <td>1</td>\n",
       "      <td>0.47675</td>\n",
       "      <td>0.12948</td>\n",
       "    </tr>\n",
       "    <tr>\n",
       "      <th>104</th>\n",
       "      <td>1</td>\n",
       "      <td>Fractions</td>\n",
       "      <td>1</td>\n",
       "      <td>0.70871</td>\n",
       "      <td>0.96574</td>\n",
       "    </tr>\n",
       "    <tr>\n",
       "      <th>312</th>\n",
       "      <td>1</td>\n",
       "      <td>Numbers</td>\n",
       "      <td>1</td>\n",
       "      <td>0.70949</td>\n",
       "      <td>0.47633</td>\n",
       "    </tr>\n",
       "    <tr>\n",
       "      <th>287</th>\n",
       "      <td>2</td>\n",
       "      <td>Geometry</td>\n",
       "      <td>0</td>\n",
       "      <td>0.67814</td>\n",
       "      <td>0.61372</td>\n",
       "    </tr>\n",
       "    <tr>\n",
       "      <th>79</th>\n",
       "      <td>2</td>\n",
       "      <td>Algebra</td>\n",
       "      <td>1</td>\n",
       "      <td>0.47675</td>\n",
       "      <td>0.12948</td>\n",
       "    </tr>\n",
       "    <tr>\n",
       "      <th>391</th>\n",
       "      <td>2</td>\n",
       "      <td>Ratio and Proportion</td>\n",
       "      <td>1</td>\n",
       "      <td>0.56520</td>\n",
       "      <td>0.61903</td>\n",
       "    </tr>\n",
       "    <tr>\n",
       "      <th>131</th>\n",
       "      <td>2</td>\n",
       "      <td>Algebra</td>\n",
       "      <td>1</td>\n",
       "      <td>0.48960</td>\n",
       "      <td>0.23038</td>\n",
       "    </tr>\n",
       "    <tr>\n",
       "      <th>132</th>\n",
       "      <td>3</td>\n",
       "      <td>Algebra</td>\n",
       "      <td>1</td>\n",
       "      <td>0.47675</td>\n",
       "      <td>0.12948</td>\n",
       "    </tr>\n",
       "    <tr>\n",
       "      <th>314</th>\n",
       "      <td>3</td>\n",
       "      <td>Numbers</td>\n",
       "      <td>1</td>\n",
       "      <td>0.66019</td>\n",
       "      <td>0.34606</td>\n",
       "    </tr>\n",
       "    <tr>\n",
       "      <th>2</th>\n",
       "      <td>3</td>\n",
       "      <td>Geometry</td>\n",
       "      <td>1</td>\n",
       "      <td>0.67814</td>\n",
       "      <td>0.61372</td>\n",
       "    </tr>\n",
       "    <tr>\n",
       "      <th>55</th>\n",
       "      <td>4</td>\n",
       "      <td>Algebra</td>\n",
       "      <td>0</td>\n",
       "      <td>0.47675</td>\n",
       "      <td>0.12948</td>\n",
       "    </tr>\n",
       "    <tr>\n",
       "      <th>289</th>\n",
       "      <td>4</td>\n",
       "      <td>Geometry</td>\n",
       "      <td>1</td>\n",
       "      <td>0.67814</td>\n",
       "      <td>0.61372</td>\n",
       "    </tr>\n",
       "    <tr>\n",
       "      <th>82</th>\n",
       "      <td>5</td>\n",
       "      <td>Algebra</td>\n",
       "      <td>1</td>\n",
       "      <td>0.47675</td>\n",
       "      <td>0.12948</td>\n",
       "    </tr>\n",
       "    <tr>\n",
       "      <th>30</th>\n",
       "      <td>5</td>\n",
       "      <td>Ratio and Proportion</td>\n",
       "      <td>1</td>\n",
       "      <td>0.56520</td>\n",
       "      <td>0.61903</td>\n",
       "    </tr>\n",
       "    <tr>\n",
       "      <th>342</th>\n",
       "      <td>5</td>\n",
       "      <td>Numbers</td>\n",
       "      <td>1</td>\n",
       "      <td>0.66019</td>\n",
       "      <td>0.34606</td>\n",
       "    </tr>\n",
       "    <tr>\n",
       "      <th>448</th>\n",
       "      <td>7</td>\n",
       "      <td>Fractions</td>\n",
       "      <td>1</td>\n",
       "      <td>0.70871</td>\n",
       "      <td>0.96574</td>\n",
       "    </tr>\n",
       "  </tbody>\n",
       "</table>\n",
       "</div>"
      ],
      "text/plain": [
       "     Anon Student Id           KC(Default)  Correct First Attempt  \\\n",
       "234                1           Percentages                      1   \n",
       "0                  1              Geometry                      1   \n",
       "208                1               Numbers                      1   \n",
       "182                1              Geometry                      1   \n",
       "78                 1               Algebra                      1   \n",
       "104                1             Fractions                      1   \n",
       "312                1               Numbers                      1   \n",
       "287                2              Geometry                      0   \n",
       "79                 2               Algebra                      1   \n",
       "391                2  Ratio and Proportion                      1   \n",
       "131                2               Algebra                      1   \n",
       "132                3               Algebra                      1   \n",
       "314                3               Numbers                      1   \n",
       "2                  3              Geometry                      1   \n",
       "55                 4               Algebra                      0   \n",
       "289                4              Geometry                      1   \n",
       "82                 5               Algebra                      1   \n",
       "30                 5  Ratio and Proportion                      1   \n",
       "342                5               Numbers                      1   \n",
       "448                7             Fractions                      1   \n",
       "\n",
       "     correct_predictions  state_predictions  \n",
       "234              0.67363            0.39985  \n",
       "0                0.67814            0.61372  \n",
       "208              0.66019            0.34606  \n",
       "182              0.70277            0.82301  \n",
       "78               0.47675            0.12948  \n",
       "104              0.70871            0.96574  \n",
       "312              0.70949            0.47633  \n",
       "287              0.67814            0.61372  \n",
       "79               0.47675            0.12948  \n",
       "391              0.56520            0.61903  \n",
       "131              0.48960            0.23038  \n",
       "132              0.47675            0.12948  \n",
       "314              0.66019            0.34606  \n",
       "2                0.67814            0.61372  \n",
       "55               0.47675            0.12948  \n",
       "289              0.67814            0.61372  \n",
       "82               0.47675            0.12948  \n",
       "30               0.56520            0.61903  \n",
       "342              0.66019            0.34606  \n",
       "448              0.70871            0.96574  "
      ]
     },
     "execution_count": 11,
     "metadata": {},
     "output_type": "execute_result"
    }
   ],
   "source": [
    "model.fit(data= train_df)\n",
    "preds = model.predict(data= test_df)\n",
    "preds[['Anon Student Id', 'KC(Default)', 'Correct First Attempt', \n",
    "       'correct_predictions', 'state_predictions']].head(20)"
   ]
  },
  {
   "cell_type": "code",
   "execution_count": 12,
   "metadata": {},
   "outputs": [
    {
     "data": {
      "text/plain": [
       "array(['Percentages', 'Geometry', 'Numbers', 'Algebra', 'Fractions',\n",
       "       'Ratio and Proportion'], dtype=object)"
      ]
     },
     "execution_count": 12,
     "metadata": {},
     "output_type": "execute_result"
    }
   ],
   "source": [
    "# Let's sanity check that we have only trained on the skills that we \n",
    "# specified in the call to fit! Note that while it is possible for a \n",
    "# BKT prediction to be 0.5 exactly, it is unlikely.\n",
    "preds[preds['correct_predictions'] != 0.5]['KC(Default)'].unique()"
   ]
  },
  {
   "cell_type": "code",
   "execution_count": 13,
   "metadata": {},
   "outputs": [
    {
     "data": {
      "text/plain": [
       "0.46928018177352615"
      ]
     },
     "execution_count": 13,
     "metadata": {},
     "output_type": "execute_result"
    }
   ],
   "source": [
    "# We use model.evaluate to accomplish the same thing!\n",
    "# You should receive an RMSE that is identical to the above\n",
    "# manually calculated RMSE.\n",
    "model.evaluate(data = df)"
   ]
  },
  {
   "cell_type": "code",
   "execution_count": 14,
   "metadata": {},
   "outputs": [
    {
     "data": {
      "text/plain": [
       "[0.47010016684306616,\n",
       " 0.6336032388663968,\n",
       " 0.6094107347055459,\n",
       " 0.4427542165165149]"
      ]
     },
     "execution_count": 14,
     "metadata": {},
     "output_type": "execute_result"
    }
   ],
   "source": [
    "model.evaluate(data=df, metric=['rmse','accuracy','auc','mean_absolute_error'])"
   ]
  },
  {
   "cell_type": "code",
   "execution_count": 15,
   "metadata": {},
   "outputs": [
    {
     "data": {
      "text/html": [
       "<div>\n",
       "<style scoped>\n",
       "    .dataframe tbody tr th:only-of-type {\n",
       "        vertical-align: middle;\n",
       "    }\n",
       "\n",
       "    .dataframe tbody tr th {\n",
       "        vertical-align: top;\n",
       "    }\n",
       "\n",
       "    .dataframe thead th {\n",
       "        text-align: right;\n",
       "    }\n",
       "</style>\n",
       "<table border=\"1\" class=\"dataframe\">\n",
       "  <thead>\n",
       "    <tr style=\"text-align: right;\">\n",
       "      <th></th>\n",
       "      <th>accuracy</th>\n",
       "    </tr>\n",
       "    <tr>\n",
       "      <th>skill</th>\n",
       "      <th></th>\n",
       "    </tr>\n",
       "  </thead>\n",
       "  <tbody>\n",
       "    <tr>\n",
       "      <th>Geometry</th>\n",
       "      <td>0.69333</td>\n",
       "    </tr>\n",
       "    <tr>\n",
       "      <th>Algebra</th>\n",
       "      <td>0.55000</td>\n",
       "    </tr>\n",
       "    <tr>\n",
       "      <th>Fractions</th>\n",
       "      <td>0.72000</td>\n",
       "    </tr>\n",
       "    <tr>\n",
       "      <th>Numbers</th>\n",
       "      <td>0.70000</td>\n",
       "    </tr>\n",
       "    <tr>\n",
       "      <th>Percentages</th>\n",
       "      <td>0.70000</td>\n",
       "    </tr>\n",
       "    <tr>\n",
       "      <th>Ratio and Proportion</th>\n",
       "      <td>0.56000</td>\n",
       "    </tr>\n",
       "  </tbody>\n",
       "</table>\n",
       "</div>"
      ],
      "text/plain": [
       "                      accuracy\n",
       "skill                         \n",
       "Geometry               0.69333\n",
       "Algebra                0.55000\n",
       "Fractions              0.72000\n",
       "Numbers                0.70000\n",
       "Percentages            0.70000\n",
       "Ratio and Proportion   0.56000"
      ]
     },
     "execution_count": 15,
     "metadata": {},
     "output_type": "execute_result"
    }
   ],
   "source": [
    "model = Model(seed = 60, num_fits = 1)\n",
    "# Note that folds is an optional parameter as well as the model \n",
    "# variant, seed, and crossvalidated metric.\n",
    "# By default, we crossvalidate on all skills separately.\n",
    "model.crossvalidate(data=df, metric= 'accuracy', folds = 5)"
   ]
  },
  {
   "cell_type": "code",
   "execution_count": 16,
   "metadata": {},
   "outputs": [
    {
     "data": {
      "text/html": [
       "<div>\n",
       "<style scoped>\n",
       "    .dataframe tbody tr th:only-of-type {\n",
       "        vertical-align: middle;\n",
       "    }\n",
       "\n",
       "    .dataframe tbody tr th {\n",
       "        vertical-align: top;\n",
       "    }\n",
       "\n",
       "    .dataframe thead th {\n",
       "        text-align: right;\n",
       "    }\n",
       "</style>\n",
       "<table border=\"1\" class=\"dataframe\">\n",
       "  <thead>\n",
       "    <tr style=\"text-align: right;\">\n",
       "      <th></th>\n",
       "      <th>rmse</th>\n",
       "    </tr>\n",
       "    <tr>\n",
       "      <th>skill</th>\n",
       "      <th></th>\n",
       "    </tr>\n",
       "  </thead>\n",
       "  <tbody>\n",
       "    <tr>\n",
       "      <th>Geometry</th>\n",
       "      <td>0.47213</td>\n",
       "    </tr>\n",
       "    <tr>\n",
       "      <th>Ratio and Proportion</th>\n",
       "      <td>0.50669</td>\n",
       "    </tr>\n",
       "    <tr>\n",
       "      <th>Numbers</th>\n",
       "      <td>0.46525</td>\n",
       "    </tr>\n",
       "    <tr>\n",
       "      <th>Algebra</th>\n",
       "      <td>0.50358</td>\n",
       "    </tr>\n",
       "    <tr>\n",
       "      <th>Fractions</th>\n",
       "      <td>0.45265</td>\n",
       "    </tr>\n",
       "    <tr>\n",
       "      <th>Percentages</th>\n",
       "      <td>0.47201</td>\n",
       "    </tr>\n",
       "  </tbody>\n",
       "</table>\n",
       "</div>"
      ],
      "text/plain": [
       "                        rmse\n",
       "skill                       \n",
       "Geometry             0.47213\n",
       "Ratio and Proportion 0.50669\n",
       "Numbers              0.46525\n",
       "Algebra              0.50358\n",
       "Fractions            0.45265\n",
       "Percentages          0.47201"
      ]
     },
     "execution_count": 16,
     "metadata": {},
     "output_type": "execute_result"
    }
   ],
   "source": [
    "model = Model(seed = 60, num_fits = 1)\n",
    "# Note that folds is an optional parameter as well as the model \n",
    "# variant, seed, and crossvalidated metric.\n",
    "# By default, we crossvalidate on all skills separately.\n",
    "model.crossvalidate(data=df, folds = 5)"
   ]
  },
  {
   "cell_type": "code",
   "execution_count": 17,
   "metadata": {},
   "outputs": [
    {
     "data": {
      "text/html": [
       "<div>\n",
       "<style scoped>\n",
       "    .dataframe tbody tr th:only-of-type {\n",
       "        vertical-align: middle;\n",
       "    }\n",
       "\n",
       "    .dataframe tbody tr th {\n",
       "        vertical-align: top;\n",
       "    }\n",
       "\n",
       "    .dataframe thead th {\n",
       "        text-align: right;\n",
       "    }\n",
       "</style>\n",
       "<table border=\"1\" class=\"dataframe\">\n",
       "  <thead>\n",
       "    <tr style=\"text-align: right;\">\n",
       "      <th></th>\n",
       "      <th>rmse</th>\n",
       "    </tr>\n",
       "    <tr>\n",
       "      <th>skill</th>\n",
       "      <th></th>\n",
       "    </tr>\n",
       "  </thead>\n",
       "  <tbody>\n",
       "    <tr>\n",
       "      <th>Algebra</th>\n",
       "      <td>0.50608</td>\n",
       "    </tr>\n",
       "  </tbody>\n",
       "</table>\n",
       "</div>"
      ],
      "text/plain": [
       "           rmse\n",
       "skill          \n",
       "Algebra 0.50608"
      ]
     },
     "execution_count": 17,
     "metadata": {},
     "output_type": "execute_result"
    }
   ],
   "source": [
    "model = Model(seed = 60, num_fits = 1)\n",
    "# Try this with a different skill or metric by replacing the lines below.\n",
    "skill = 'Algebra'\n",
    "metric = 'rmse'\n",
    "\n",
    "simple_cv = model.crossvalidate(data = test_df, skills = skill, \n",
    "                                metric = metric)\n",
    "simple_cv"
   ]
  },
  {
   "cell_type": "code",
   "execution_count": 18,
   "metadata": {},
   "outputs": [
    {
     "data": {
      "text/html": [
       "<div>\n",
       "<style scoped>\n",
       "    .dataframe tbody tr th:only-of-type {\n",
       "        vertical-align: middle;\n",
       "    }\n",
       "\n",
       "    .dataframe tbody tr th {\n",
       "        vertical-align: top;\n",
       "    }\n",
       "\n",
       "    .dataframe thead th {\n",
       "        text-align: right;\n",
       "    }\n",
       "</style>\n",
       "<table border=\"1\" class=\"dataframe\">\n",
       "  <thead>\n",
       "    <tr style=\"text-align: right;\">\n",
       "      <th></th>\n",
       "      <th>auc</th>\n",
       "    </tr>\n",
       "    <tr>\n",
       "      <th>skill</th>\n",
       "      <th></th>\n",
       "    </tr>\n",
       "  </thead>\n",
       "  <tbody>\n",
       "    <tr>\n",
       "      <th>Algebra</th>\n",
       "      <td>0.68819</td>\n",
       "    </tr>\n",
       "  </tbody>\n",
       "</table>\n",
       "</div>"
      ],
      "text/plain": [
       "            auc\n",
       "skill          \n",
       "Algebra 0.68819"
      ]
     },
     "execution_count": 18,
     "metadata": {},
     "output_type": "execute_result"
    }
   ],
   "source": [
    "model = Model(seed = 60, num_fits = 1)\n",
    "skill = 'Algebra'\n",
    "metric= 'auc'\n",
    "multigs_cv = model.crossvalidate(data= test_df, skills = skill,\n",
    "                                 multigs = True, metric = metric)\n",
    "multigs_cv"
   ]
  },
  {
   "cell_type": "code",
   "execution_count": 19,
   "metadata": {},
   "outputs": [
    {
     "data": {
      "text/html": [
       "<div>\n",
       "<style scoped>\n",
       "    .dataframe tbody tr th:only-of-type {\n",
       "        vertical-align: middle;\n",
       "    }\n",
       "\n",
       "    .dataframe tbody tr th {\n",
       "        vertical-align: top;\n",
       "    }\n",
       "\n",
       "    .dataframe thead th {\n",
       "        text-align: right;\n",
       "    }\n",
       "</style>\n",
       "<table border=\"1\" class=\"dataframe\">\n",
       "  <thead>\n",
       "    <tr style=\"text-align: right;\">\n",
       "      <th></th>\n",
       "      <th>rmse</th>\n",
       "    </tr>\n",
       "    <tr>\n",
       "      <th>skill</th>\n",
       "      <th></th>\n",
       "    </tr>\n",
       "  </thead>\n",
       "  <tbody>\n",
       "    <tr>\n",
       "      <th>Algebra</th>\n",
       "      <td>0.47948</td>\n",
       "    </tr>\n",
       "  </tbody>\n",
       "</table>\n",
       "</div>"
      ],
      "text/plain": [
       "           rmse\n",
       "skill          \n",
       "Algebra 0.47948"
      ]
     },
     "execution_count": 19,
     "metadata": {},
     "output_type": "execute_result"
    }
   ],
   "source": [
    "model = Model(seed = 60, num_fits = 1)\n",
    "metric = 'rmse'\n",
    "multigs_cv = model.crossvalidate(data= test_df, skills = skill,\n",
    "                                 multigs = True, metric = metric)\n",
    "multigs_cv\n"
   ]
  },
  {
   "cell_type": "code",
   "execution_count": 20,
   "metadata": {},
   "outputs": [
    {
     "data": {
      "text/html": [
       "<div>\n",
       "<style scoped>\n",
       "    .dataframe tbody tr th:only-of-type {\n",
       "        vertical-align: middle;\n",
       "    }\n",
       "\n",
       "    .dataframe tbody tr th {\n",
       "        vertical-align: top;\n",
       "    }\n",
       "\n",
       "    .dataframe thead th {\n",
       "        text-align: right;\n",
       "    }\n",
       "</style>\n",
       "<table border=\"1\" class=\"dataframe\">\n",
       "  <thead>\n",
       "    <tr style=\"text-align: right;\">\n",
       "      <th></th>\n",
       "      <th>rmse</th>\n",
       "    </tr>\n",
       "    <tr>\n",
       "      <th>skill</th>\n",
       "      <th></th>\n",
       "    </tr>\n",
       "  </thead>\n",
       "  <tbody>\n",
       "    <tr>\n",
       "      <th>Algebra</th>\n",
       "      <td>0.42354</td>\n",
       "    </tr>\n",
       "  </tbody>\n",
       "</table>\n",
       "</div>"
      ],
      "text/plain": [
       "           rmse\n",
       "skill          \n",
       "Algebra 0.42354"
      ]
     },
     "execution_count": 20,
     "metadata": {},
     "output_type": "execute_result"
    }
   ],
   "source": [
    "model = Model(seed = 60, num_fits = 1)\n",
    "skill = 'Algebra'\n",
    "\n",
    "multilearn_cv = model.crossvalidate(data= df, skills = skill,\n",
    "                                    multilearn =\"question_id\", metric = metric)\n",
    "multilearn_cv"
   ]
  },
  {
   "cell_type": "code",
   "execution_count": 21,
   "metadata": {},
   "outputs": [
    {
     "data": {
      "text/html": [
       "<div>\n",
       "<style scoped>\n",
       "    .dataframe tbody tr th:only-of-type {\n",
       "        vertical-align: middle;\n",
       "    }\n",
       "\n",
       "    .dataframe tbody tr th {\n",
       "        vertical-align: top;\n",
       "    }\n",
       "\n",
       "    .dataframe thead th {\n",
       "        text-align: right;\n",
       "    }\n",
       "</style>\n",
       "<table border=\"1\" class=\"dataframe\">\n",
       "  <thead>\n",
       "    <tr style=\"text-align: right;\">\n",
       "      <th></th>\n",
       "      <th>rmse</th>\n",
       "    </tr>\n",
       "    <tr>\n",
       "      <th>skill</th>\n",
       "      <th></th>\n",
       "    </tr>\n",
       "  </thead>\n",
       "  <tbody>\n",
       "    <tr>\n",
       "      <th>Algebra</th>\n",
       "      <td>0.36518</td>\n",
       "    </tr>\n",
       "    <tr>\n",
       "      <th>Algebra</th>\n",
       "      <td>0.51502</td>\n",
       "    </tr>\n",
       "  </tbody>\n",
       "</table>\n",
       "</div>"
      ],
      "text/plain": [
       "           rmse\n",
       "skill          \n",
       "Algebra 0.36518\n",
       "Algebra 0.51502"
      ]
     },
     "execution_count": 21,
     "metadata": {},
     "output_type": "execute_result"
    }
   ],
   "source": [
    "model = Model(seed = 60, num_fits = 1)\n",
    "# The multiprior model generates different priors based on the first \n",
    "# response of each student.\n",
    "multiprior_cv = model.crossvalidate(data= test_df, skills = skill,\n",
    "                                    multiprior = True, metric = metric,\n",
    "                                    folds = 3)\n",
    "\n",
    "model = Model(seed = 60, num_fits = 1)\n",
    "multipair_cv = model.crossvalidate(data= test_df, skills = skill,\n",
    "                                   multipair = True, metric = metric,\n",
    "                                   folds = 3)\n",
    "pd.concat([multiprior_cv, multipair_cv], axis = 0)"
   ]
  },
  {
   "cell_type": "code",
   "execution_count": 22,
   "metadata": {},
   "outputs": [
    {
     "data": {
      "text/html": [
       "<div>\n",
       "<style scoped>\n",
       "    .dataframe tbody tr th:only-of-type {\n",
       "        vertical-align: middle;\n",
       "    }\n",
       "\n",
       "    .dataframe tbody tr th {\n",
       "        vertical-align: top;\n",
       "    }\n",
       "\n",
       "    .dataframe thead th {\n",
       "        text-align: right;\n",
       "    }\n",
       "</style>\n",
       "<table border=\"1\" class=\"dataframe\">\n",
       "  <thead>\n",
       "    <tr style=\"text-align: right;\">\n",
       "      <th></th>\n",
       "      <th>rmse</th>\n",
       "    </tr>\n",
       "    <tr>\n",
       "      <th>skill</th>\n",
       "      <th></th>\n",
       "    </tr>\n",
       "  </thead>\n",
       "  <tbody>\n",
       "    <tr>\n",
       "      <th>Algebra</th>\n",
       "      <td>0.57715</td>\n",
       "    </tr>\n",
       "  </tbody>\n",
       "</table>\n",
       "</div>"
      ],
      "text/plain": [
       "           rmse\n",
       "skill          \n",
       "Algebra 0.57715"
      ]
     },
     "execution_count": 22,
     "metadata": {},
     "output_type": "execute_result"
    }
   ],
   "source": [
    "model = Model(seed = 60, num_fits = 1)\n",
    "# We combine the fifth parameter, forgets, with the previous multilearn\n",
    "# and multiguess/slip models for a combo model.\n",
    "combo_cv = model.crossvalidate(data= test_df, skills = skill,\n",
    "                               forgets = True, multilearn = True, \n",
    "                               multigs = True, metric = metric)\n",
    "combo_cv"
   ]
  },
  {
   "cell_type": "code",
   "execution_count": 23,
   "metadata": {},
   "outputs": [],
   "source": [
    "model = Model(seed = 60, num_fits = 1)"
   ]
  },
  {
   "cell_type": "code",
   "execution_count": 24,
   "metadata": {},
   "outputs": [
    {
     "data": {
      "text/plain": [
       "{'Fractions': {'prior': 1e-40}}"
      ]
     },
     "execution_count": 24,
     "metadata": {},
     "output_type": "execute_result"
    }
   ],
   "source": [
    "skill = 'Fractions'\n",
    "\n",
    "model.coef_ = {skill: {'prior': 1e-40}}\n",
    "model.coef_"
   ]
  },
  {
   "cell_type": "code",
   "execution_count": 25,
   "metadata": {},
   "outputs": [
    {
     "ename": "ValueError",
     "evalue": "data path is invalid or file not found",
     "output_type": "error",
     "traceback": [
      "\u001b[1;31m---------------------------------------------------------------------------\u001b[0m",
      "\u001b[1;31mValueError\u001b[0m                                Traceback (most recent call last)",
      "Cell \u001b[1;32mIn[25], line 3\u001b[0m\n\u001b[0;32m      1\u001b[0m \u001b[39m# Train the model with the pre-initialized parameters.\u001b[39;00m\n\u001b[0;32m      2\u001b[0m model\u001b[39m.\u001b[39mfit(data\u001b[39m=\u001b[39m train_df, multigs \u001b[39m=\u001b[39m \u001b[39mTrue\u001b[39;00m)\n\u001b[1;32m----> 3\u001b[0m low_prior_auc \u001b[39m=\u001b[39m model\u001b[39m.\u001b[39;49mevaluate(data_path \u001b[39m=\u001b[39;49m \u001b[39m'\u001b[39;49m\u001b[39mSepskills.csv\u001b[39;49m\u001b[39m'\u001b[39;49m, metric \u001b[39m=\u001b[39;49m \u001b[39m'\u001b[39;49m\u001b[39mauc\u001b[39;49m\u001b[39m'\u001b[39;49m)\n\u001b[0;32m      5\u001b[0m \u001b[39m# We can obtain the prior value by indexing into the model.coef_\u001b[39;00m\n\u001b[0;32m      6\u001b[0m \u001b[39m# dictionary with the skill and parameter names. \u001b[39;00m\n\u001b[0;32m      7\u001b[0m \u001b[39mprint\u001b[39m(\u001b[39m\"\u001b[39m\u001b[39mFitted Prior Value: \u001b[39m\u001b[39m%f\u001b[39;00m\u001b[39m\"\u001b[39m \u001b[39m%\u001b[39m model\u001b[39m.\u001b[39mcoef_[skill][\u001b[39m'\u001b[39m\u001b[39mprior\u001b[39m\u001b[39m'\u001b[39m])\n",
      "File \u001b[1;32m~\\AppData\\Local\\Packages\\PythonSoftwareFoundation.Python.3.9_qbz5n2kfra8p0\\LocalCache\\local-packages\\Python39\\site-packages\\pyBKT\\models\\Model.py:175\u001b[0m, in \u001b[0;36mModel.evaluate\u001b[1;34m(self, data, data_path, metric)\u001b[0m\n\u001b[0;32m    163\u001b[0m \u001b[39mdef\u001b[39;00m \u001b[39mevaluate\u001b[39m(\u001b[39mself\u001b[39m, data \u001b[39m=\u001b[39m \u001b[39mNone\u001b[39;00m, data_path \u001b[39m=\u001b[39m \u001b[39mNone\u001b[39;00m, metric \u001b[39m=\u001b[39m metrics\u001b[39m.\u001b[39mrmse):\n\u001b[0;32m    164\u001b[0m \u001b[39m    \u001b[39m\u001b[39m\"\"\"\u001b[39;00m\n\u001b[0;32m    165\u001b[0m \u001b[39m    Evaluates a BKT model given model and data information. Takes a metric and\u001b[39;00m\n\u001b[0;32m    166\u001b[0m \u001b[39m    data location or DataFrame as arguments. Returns the value of the metric\u001b[39;00m\n\u001b[1;32m   (...)\u001b[0m\n\u001b[0;32m    173\u001b[0m \n\u001b[0;32m    174\u001b[0m \u001b[39m    \"\"\"\u001b[39;00m\n\u001b[1;32m--> 175\u001b[0m     \u001b[39mself\u001b[39;49m\u001b[39m.\u001b[39;49m_check_data(data_path, data)\n\u001b[0;32m    176\u001b[0m     \u001b[39mif\u001b[39;00m \u001b[39mnot\u001b[39;00m \u001b[39misinstance\u001b[39m(metric, (\u001b[39mtuple\u001b[39m, \u001b[39mlist\u001b[39m)):\n\u001b[0;32m    177\u001b[0m         metric \u001b[39m=\u001b[39m [metric]\n",
      "File \u001b[1;32m~\\AppData\\Local\\Packages\\PythonSoftwareFoundation.Python.3.9_qbz5n2kfra8p0\\LocalCache\\local-packages\\Python39\\site-packages\\pyBKT\\models\\Model.py:559\u001b[0m, in \u001b[0;36mModel._check_data\u001b[1;34m(self, data_path, data)\u001b[0m\n\u001b[0;32m    557\u001b[0m     \u001b[39mraise\u001b[39;00m \u001b[39mValueError\u001b[39;00m(\u001b[39m\"\u001b[39m\u001b[39mcannot specify both data location and data\u001b[39m\u001b[39m\"\u001b[39m)\n\u001b[0;32m    558\u001b[0m \u001b[39melif\u001b[39;00m \u001b[39misinstance\u001b[39m(data_path, \u001b[39mstr\u001b[39m) \u001b[39mand\u001b[39;00m \u001b[39mnot\u001b[39;00m os\u001b[39m.\u001b[39mpath\u001b[39m.\u001b[39mexists(data_path):\n\u001b[1;32m--> 559\u001b[0m     \u001b[39mraise\u001b[39;00m \u001b[39mValueError\u001b[39;00m(\u001b[39m\"\u001b[39m\u001b[39mdata path is invalid or file not found\u001b[39m\u001b[39m\"\u001b[39m)\n",
      "\u001b[1;31mValueError\u001b[0m: data path is invalid or file not found"
     ]
    }
   ],
   "source": [
    "# Train the model with the pre-initialized parameters.\n",
    "model.fit(data= train_df, multigs = True)\n",
    "low_prior_auc = model.evaluate(data_path = 'Sepskills.csv', metric = 'auc')\n",
    "\n",
    "# We can obtain the prior value by indexing into the model.coef_\n",
    "# dictionary with the skill and parameter names. \n",
    "print(\"Fitted Prior Value: %f\" % model.coef_[skill]['prior'])\n",
    "print(\"Training AUC: %f\" % low_prior_auc)"
   ]
  },
  {
   "cell_type": "code",
   "execution_count": null,
   "metadata": {},
   "outputs": [],
   "source": [
    "# Initialize the prior to be more reasonable.\n",
    "model.coef_ = {skill: {'prior': 0.5}}\n",
    "model.fit(data_path = 'Sepskills.csv', multigs = True)\n",
    "normal_prior_auc = model.evaluate(data_path = 'Sepskills.csv', metric = 'auc')\n",
    "\n",
    "# Print the fitted prior value and RMSE.\n",
    "print(\"Fitted Prior Value: %f\" % model.coef_[skill]['prior'])\n",
    "print(\"Training AUC: %f\" % normal_prior_auc)"
   ]
  },
  {
   "cell_type": "code",
   "execution_count": null,
   "metadata": {},
   "outputs": [],
   "source": [
    "import pandas as pd\n",
    "\n",
    "# Set options to display all rows and columns\n",
    "pd.set_option('display.max_rows', None)\n",
    "pd.set_option('display.max_columns', None)\n",
    "pd.set_option('display.width', None)\n",
    "pd.set_option('display.max_colwidth', 1)\n"
   ]
  },
  {
   "cell_type": "code",
   "execution_count": null,
   "metadata": {},
   "outputs": [],
   "source": [
    "model = Model(seed = 60, num_fits = 1)"
   ]
  },
  {
   "cell_type": "code",
   "execution_count": null,
   "metadata": {},
   "outputs": [],
   "source": [
    "model.fit(data = df, skills=skill,\n",
    "          forgets = True, multilearn = True, \n",
    "          multigs = True)\n",
    "model.params()"
   ]
  },
  {
   "cell_type": "code",
   "execution_count": null,
   "metadata": {},
   "outputs": [],
   "source": [
    "# We will get warnings for using indexing past lexsort. That's fine,\n",
    "# and we will disable these warnings.\n",
    "import warnings\n",
    "warnings.simplefilter(action='ignore')\n",
    "\n",
    "#Model Intialization\n",
    "model = Model(seed = 60, num_fits = 1)\n",
    "model.fit(data = df,\n",
    "          forgets = True, multilearn = True, \n",
    "          multigs = True)\n",
    "\n",
    "# Plot the learns, forgets, slips and guesses for each of the classes.\n",
    "params = model.params()\n",
    "plt.figure(figsize = (12, 6))\n",
    "plt.plot(params.loc[(skill, 'guesses')], label = 'Guesses')\n",
    "plt.plot(params.loc[(skill, 'learns')], label = 'Learns')\n",
    "plt.plot(params.loc[(skill, 'forgets')], label = 'Forgets')\n",
    "plt.plot(params.loc[(skill, 'slips')], label = 'Slips')\n",
    "plt.xlabel('Template ID')\n",
    "plt.ylabel('Rate')\n",
    "plt.title('BKT Parameters per Template ID Class')\n",
    "plt.legend();"
   ]
  },
  {
   "cell_type": "code",
   "execution_count": null,
   "metadata": {},
   "outputs": [],
   "source": [
    "import matplotlib.pyplot as plt\n",
    "\n",
    "# Data (replace with your actual data)\n",
    "skills = ['Geometry', 'Numbers', 'Algebra', 'Percentages', 'Fractions', 'Ratio and Proportion']\n",
    "under16_correct = [0.71905, 0.65945, 0.41178, 0.58205, 0.76517, 0.57274]\n",
    "above16_correct = [0.51663, 0.56880, 0.41095, 0.60470, 0.68247, 0.63329]\n",
    "under16_state = [0.72016, 0.20428, 0.74020, 0.44804, 0.83052, 0.27746]\n",
    "above16_state = [0.47483, 0.83708, 0.47082, 0.45746, 0.76397, 0.01140]\n",
    "\n",
    "# Create line plots for correct predictions\n",
    "plt.figure(figsize=(10, 6))\n",
    "plt.plot(skills, under16_correct, marker='o', label='Under16')\n",
    "plt.plot(skills, above16_correct, marker='o', label='Above16')\n",
    "plt.xlabel('Skills')\n",
    "plt.ylabel('Correct Predictions')\n",
    "plt.title('Correct Predictions by Skill and Age Group')\n",
    "plt.xticks(rotation=45)\n",
    "plt.legend()\n",
    "plt.tight_layout()\n",
    "plt.show()\n",
    "\n",
    "# Create line plots for state predictions\n",
    "plt.figure(figsize=(10, 6))\n",
    "plt.plot(skills, under16_state, marker='o', label='Under16')\n",
    "plt.plot(skills, above16_state, marker='o', label='Above16')\n",
    "plt.xlabel('Skills')\n",
    "plt.ylabel('State Predictions')\n",
    "plt.title('State Predictions by Skill and Age Group')\n",
    "plt.xticks(rotation=45)\n",
    "plt.legend()\n",
    "plt.tight_layout()\n",
    "plt.show()\n"
   ]
  },
  {
   "cell_type": "code",
   "execution_count": null,
   "metadata": {},
   "outputs": [],
   "source": [
    "import numpy as np\n",
    "import pandas as pd\n",
    "import matplotlib.pyplot as plt\n",
    "from sklearn.model_selection import train_test_split\n",
    "from pyBKT.models import Model\n"
   ]
  },
  {
   "cell_type": "code",
   "execution_count": null,
   "metadata": {},
   "outputs": [],
   "source": [
    "model = Model(seed = 60, num_fits = 1)"
   ]
  },
  {
   "cell_type": "code",
   "execution_count": null,
   "metadata": {},
   "outputs": [],
   "source": [
    "df= pd.read_csv(r\"SS.csv\", encoding ='latin')\n",
    "df.tail(5)"
   ]
  },
  {
   "cell_type": "code",
   "execution_count": null,
   "metadata": {},
   "outputs": [],
   "source": [
    "class IRT: \n",
    "    def __init__(self, lr, iterations, user_size, question_size) :\n",
    "        self.lr= lr\n",
    "        self.iterations= iterations\n",
    "        self.user_size= user_size\n",
    "        self.question_size= question_size\n",
    "        self.theta= np.zeros(user_size)\n",
    "        self.beta= np.zeros( question_size)\n",
    "        self.val_acc_lst= []\n",
    "        self.neg_lld_lst= []\n",
    "        self.val_lld_lst= []\n",
    "\n",
    "    def sigmoid( self, x):\n",
    "        return np.exp(x) / (1+np.exp(x))\n",
    "\n",
    "    def neg_log_lklihood(self, data):\n",
    "        log_lklihood= 0.\n",
    "        for ind in np.arange(len(data[\"is_correct\"])):\n",
    "            i = data[\"user_id\"][ind]\n",
    "            j= data[\"question_id\"][ind]\n",
    "            cij= data[\"is_correct\"][ind]\n",
    "\n",
    "            theta_i = self.theta[i]\n",
    "            beta_j = self. beta[j]\n",
    "            diff= theta_i - beta_j\n",
    "            log_lklihood += cij * diff- np.log(1+ np.exp(diff))\n",
    "        return-log_lklihood\n",
    "    \n",
    "    def update_theta_beta(self, data):\n",
    "        diff_theta_beta = np.expand_dims(self.theta, axis=1) - np.expand_dims(self.beta, axis= 0)\n",
    "        sig = self.sigmoid(diff_theta_beta)\n",
    "\n",
    "        grad_theta= np.zeros_like(diff_theta_beta)\n",
    "        grad_beta= np.zeros_like(diff_theta_beta)\n",
    "\n",
    "        for ind in np.arange(len(data[\"is_correct\"])):\n",
    "            i = data[\"user_id\"][ind]\n",
    "            j= data[\"question_id\"][ind]\n",
    "            cij= data[\"is_correct\"][ind]\n",
    "\n",
    "            grad_theta[i, j] = cij - sig[i,j]\n",
    "            grad_beta[i, j]= sig[i, j] -~ cij\n",
    "        \n",
    "        self.theta = self.theta + self.lr* np.sum(grad_theta, axis=1)\n",
    "        self.beta = self.beta + self.lr* np.sum(grad_beta, axis=0)\n",
    "\n",
    "    def evaluate(self, data):\n",
    "        pred=[]\n",
    "        for i, q in enumerate(data[\"question_id\"]):\n",
    "            u = data[\"user_id\"][i]\n",
    "            x= (self.theta[u]- self.beta[q]).sum()\n",
    "            p_a = self.sigmoid(x)\n",
    "            pred.append(p_a >=0.5)\n",
    "        return np.sum((data[\"is_correct\"] == np.array(pred)))/ len(data[\"is_correct\"])\n",
    "\n",
    "    def irt(self, train_data, val_data):\n",
    "        for i in range(self.iterations):\n",
    "            neg_lld = self.neg_log_lklihood(train_data)\n",
    "            score = self.evaluate(val_data)\n",
    "            self.val_acc_lst.append(score)\n",
    "            self.neg_lld_lst.append(neg_lld)\n",
    "            self.val_lld_lst.append(self.neg_log_lklihood(val_data))\n",
    "            print(\"NLLK: {} \\t Score: {}\".format(neg_lld, score))\n",
    "            self.update_theta_beta(train_data)\n",
    "\n",
    "        return self.theta, self.beta, self.val_acc_lst, self.neg_lld_lst, self.val_lld_lst                 "
   ]
  },
  {
   "cell_type": "code",
   "execution_count": null,
   "metadata": {},
   "outputs": [],
   "source": [
    "def main(skill= 'Algebra'):\n",
    "    train_data= df[df['KC(Default)']== skill]\n",
    "    train_data= train_data[['Anon Student Id', 'Problem Name', 'Correct First Attempt']]\n",
    "    train_data.columns = ['user_id',\"question_id\", \"is_correct\"]\n",
    "\n",
    "    labels, levels = pd.factorize(train_data['user_id'])\n",
    "    train_data['user_id']= labels\n",
    "    user_dic= dict(zip(levels, list(range(len(levels)))))\n",
    "    labels, levels = pd.factorize(train_data['question_id'])\n",
    "    train_data['question_id']= labels\n",
    "    question_dic= dict(zip(levels, list(range(len(levels)))))\n",
    "\n",
    "    train_data, test_data = train_test_split(train_data, test_size=0.3)\n",
    "    val_data, test_data = train_test_split(test_data, test_size=0.3)\n",
    "\n",
    "    train_data= train_data.reset_index()\n",
    "    train_data= train_data.drop(columns=['index'])\n",
    "    test_data= test_data.reset_index()\n",
    "    test_data= test_data.drop(columns=['index'])\n",
    "    val_data= val_data.reset_index()\n",
    "    val_data= val_data.drop(columns=['index'])\n",
    "\n",
    "    lr =1e-2\n",
    "    num_iterations=50\n",
    "    irt_model=IRT(lr, num_iterations, len(user_dic), len(question_dic)) \n",
    "    theta, beta, val_acc_lst, neg_lld_lst, val_lld_lst= irt_model.irt(train_data, val_data)\n",
    "\n",
    "    print(\"Validation accuracy: {}\".format(val_acc_lst[-1]))\n",
    "    test_acc= irt_model.evaluate(test_data)\n",
    "    print(\"Test accuracy: {}\". format(test_acc))\n",
    "    return test_acc, user_dic, question_dic, theta, bytearray\n",
    "\n",
    "skill_list = list(df['KC(Default)'].unique())\n",
    "skill_acc = []\n",
    "\n",
    "for s in skill_list:\n",
    "    test_acc, user_dic, question_dic, theta, beta = main(s)\n",
    "    skill_acc.append((s, test_acc))\n",
    "\n",
    "for skill, acc in skill_acc:\n",
    "    print(f\"Skill: {skill}, Accuracy: {acc}\")"
   ]
  }
 ],
 "metadata": {
  "kernelspec": {
   "display_name": "Python 3",
   "language": "python",
   "name": "python3"
  },
  "language_info": {
   "codemirror_mode": {
    "name": "ipython",
    "version": 3
   },
   "file_extension": ".py",
   "mimetype": "text/x-python",
   "name": "python",
   "nbconvert_exporter": "python",
   "pygments_lexer": "ipython3",
   "version": "3.9.13"
  },
  "orig_nbformat": 4
 },
 "nbformat": 4,
 "nbformat_minor": 2
}
